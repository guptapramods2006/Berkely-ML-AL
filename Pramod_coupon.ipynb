{
 "cells": [
  {
   "cell_type": "markdown",
   "metadata": {},
   "source": [
    "### Will a Customer Accept the Coupon?\n",
    "\n",
    "**Context**\n",
    "\n",
    "Imagine driving through town and a coupon is delivered to your cell phone for a restaraunt near where you are driving. Would you accept that coupon and take a short detour to the restaraunt? Would you accept the coupon but use it on a sunbsequent trip? Would you ignore the coupon entirely? What if the coupon was for a bar instead of a restaraunt? What about a coffee house? Would you accept a bar coupon with a minor passenger in the car? What about if it was just you and your partner in the car? Would weather impact the rate of acceptance? What about the time of day?\n",
    "\n",
    "Obviously, proximity to the business is a factor on whether the coupon is delivered to the driver or not, but what are the factors that determine whether a driver accepts the coupon once it is delivered to them? How would you determine whether a driver is likely to accept a coupon?\n",
    "\n",
    "**Overview**\n",
    "\n",
    "The goal of this project is to use what you know about visualizations and probability distributions to distinguish between customers who accepted a driving coupon versus those that did not.\n",
    "\n",
    "**Data**\n",
    "\n",
    "This data comes to us from the UCI Machine Learning repository and was collected via a survey on Amazon Mechanical Turk. The survey describes different driving scenarios including the destination, current time, weather, passenger, etc., and then ask the person whether he will accept the coupon if he is the driver. Answers that the user will drive there ‘right away’ or ‘later before the coupon expires’ are labeled as ‘Y = 1’ and answers ‘no, I do not want the coupon’ are labeled as ‘Y = 0’.  There are five different types of coupons -- less expensive restaurants (under \\\\$20), coffee houses, carry out & take away, bar, and more expensive restaurants (\\\\$20 - \\\\$50). "
   ]
  },
  {
   "cell_type": "markdown",
   "metadata": {},
   "source": [
    "**Deliverables**\n",
    "\n",
    "Your final product should be a brief report that highlights the differences between customers who did and did not accept the coupons.  To explore the data you will utilize your knowledge of plotting, statistical summaries, and visualization using Python. You will publish your findings in a public facing github repository as your first portfolio piece. \n",
    "\n",
    "\n",
    "\n"
   ]
  },
  {
   "cell_type": "markdown",
   "metadata": {},
   "source": [
    "### Data Description\n",
    "Keep in mind that these values mentioned below are average values.\n",
    "\n",
    "The attributes of this data set include:\n",
    "1. User attributes\n",
    "    -  Gender: male, female\n",
    "    -  Age: below 21, 21 to 25, 26 to 30, etc.\n",
    "    -  Marital Status: single, married partner, unmarried partner, or widowed\n",
    "    -  Number of children: 0, 1, or more than 1\n",
    "    -  Education: high school, bachelors degree, associates degree, or graduate degree\n",
    "    -  Occupation: architecture & engineering, business & financial, etc.\n",
    "    -  Annual income: less than \\\\$12500, \\\\$12500 - \\\\$24999, \\\\$25000 - \\\\$37499, etc.\n",
    "    -  Number of times that he/she goes to a bar: 0, less than 1, 1 to 3, 4 to 8 or greater than 8\n",
    "    -  Number of times that he/she buys takeaway food: 0, less than 1, 1 to 3, 4 to 8 or greater\n",
    "    than 8\n",
    "    -  Number of times that he/she goes to a coffee house: 0, less than 1, 1 to 3, 4 to 8 or\n",
    "    greater than 8\n",
    "    -  Number of times that he/she eats at a restaurant with average expense less than \\\\$20 per\n",
    "    person: 0, less than 1, 1 to 3, 4 to 8 or greater than 8\n",
    "    -  Number of times that he/she goes to a bar: 0, less than 1, 1 to 3, 4 to 8 or greater than 8\n",
    "    \n",
    "\n",
    "2. Contextual attributes\n",
    "    - Driving destination: home, work, or no urgent destination\n",
    "    - Location of user, coupon and destination: we provide a map to show the geographical\n",
    "    location of the user, destination, and the venue, and we mark the distance between each\n",
    "    two places with time of driving. The user can see whether the venue is in the same\n",
    "    direction as the destination.\n",
    "    - Weather: sunny, rainy, or snowy\n",
    "    - Temperature: 30F, 55F, or 80F\n",
    "    - Time: 10AM, 2PM, or 6PM\n",
    "    - Passenger: alone, partner, kid(s), or friend(s)\n",
    "\n",
    "\n",
    "3. Coupon attributes\n",
    "    - time before it expires: 2 hours or one day"
   ]
  },
  {
   "cell_type": "code",
   "execution_count": 1,
   "metadata": {},
   "outputs": [],
   "source": [
    "import matplotlib.pyplot as plt\n",
    "import seaborn as sns\n",
    "import pandas as pd\n",
    "import numpy as np"
   ]
  },
  {
   "cell_type": "markdown",
   "metadata": {},
   "source": [
    "### Problems\n",
    "\n",
    "Use the prompts below to get started with your data analysis.  \n",
    "\n",
    "1. Read in the `coupons.csv` file.\n",
    "\n",
    "\n"
   ]
  },
  {
   "cell_type": "code",
   "execution_count": 72,
   "metadata": {},
   "outputs": [],
   "source": [
    "data = pd.read_csv('data/coupons.csv')"
   ]
  },
  {
   "cell_type": "code",
   "execution_count": 12,
   "metadata": {},
   "outputs": [
    {
     "data": {
      "text/html": [
       "<div>\n",
       "<style scoped>\n",
       "    .dataframe tbody tr th:only-of-type {\n",
       "        vertical-align: middle;\n",
       "    }\n",
       "\n",
       "    .dataframe tbody tr th {\n",
       "        vertical-align: top;\n",
       "    }\n",
       "\n",
       "    .dataframe thead th {\n",
       "        text-align: right;\n",
       "    }\n",
       "</style>\n",
       "<table border=\"1\" class=\"dataframe\">\n",
       "  <thead>\n",
       "    <tr style=\"text-align: right;\">\n",
       "      <th></th>\n",
       "      <th>destination</th>\n",
       "      <th>passanger</th>\n",
       "      <th>weather</th>\n",
       "      <th>temperature</th>\n",
       "      <th>time</th>\n",
       "      <th>coupon</th>\n",
       "      <th>expiration</th>\n",
       "      <th>gender</th>\n",
       "      <th>age</th>\n",
       "      <th>maritalStatus</th>\n",
       "      <th>...</th>\n",
       "      <th>CoffeeHouse</th>\n",
       "      <th>CarryAway</th>\n",
       "      <th>RestaurantLessThan20</th>\n",
       "      <th>Restaurant20To50</th>\n",
       "      <th>toCoupon_GEQ5min</th>\n",
       "      <th>toCoupon_GEQ15min</th>\n",
       "      <th>toCoupon_GEQ25min</th>\n",
       "      <th>direction_same</th>\n",
       "      <th>direction_opp</th>\n",
       "      <th>Y</th>\n",
       "    </tr>\n",
       "  </thead>\n",
       "  <tbody>\n",
       "    <tr>\n",
       "      <th>0</th>\n",
       "      <td>No Urgent Place</td>\n",
       "      <td>Alone</td>\n",
       "      <td>Sunny</td>\n",
       "      <td>55</td>\n",
       "      <td>2PM</td>\n",
       "      <td>Restaurant(&lt;20)</td>\n",
       "      <td>1d</td>\n",
       "      <td>Female</td>\n",
       "      <td>21</td>\n",
       "      <td>Unmarried partner</td>\n",
       "      <td>...</td>\n",
       "      <td>never</td>\n",
       "      <td>NaN</td>\n",
       "      <td>4~8</td>\n",
       "      <td>1~3</td>\n",
       "      <td>1</td>\n",
       "      <td>0</td>\n",
       "      <td>0</td>\n",
       "      <td>0</td>\n",
       "      <td>1</td>\n",
       "      <td>1</td>\n",
       "    </tr>\n",
       "    <tr>\n",
       "      <th>1</th>\n",
       "      <td>No Urgent Place</td>\n",
       "      <td>Friend(s)</td>\n",
       "      <td>Sunny</td>\n",
       "      <td>80</td>\n",
       "      <td>10AM</td>\n",
       "      <td>Coffee House</td>\n",
       "      <td>2h</td>\n",
       "      <td>Female</td>\n",
       "      <td>21</td>\n",
       "      <td>Unmarried partner</td>\n",
       "      <td>...</td>\n",
       "      <td>never</td>\n",
       "      <td>NaN</td>\n",
       "      <td>4~8</td>\n",
       "      <td>1~3</td>\n",
       "      <td>1</td>\n",
       "      <td>0</td>\n",
       "      <td>0</td>\n",
       "      <td>0</td>\n",
       "      <td>1</td>\n",
       "      <td>0</td>\n",
       "    </tr>\n",
       "    <tr>\n",
       "      <th>2</th>\n",
       "      <td>No Urgent Place</td>\n",
       "      <td>Friend(s)</td>\n",
       "      <td>Sunny</td>\n",
       "      <td>80</td>\n",
       "      <td>10AM</td>\n",
       "      <td>Carry out &amp; Take away</td>\n",
       "      <td>2h</td>\n",
       "      <td>Female</td>\n",
       "      <td>21</td>\n",
       "      <td>Unmarried partner</td>\n",
       "      <td>...</td>\n",
       "      <td>never</td>\n",
       "      <td>NaN</td>\n",
       "      <td>4~8</td>\n",
       "      <td>1~3</td>\n",
       "      <td>1</td>\n",
       "      <td>1</td>\n",
       "      <td>0</td>\n",
       "      <td>0</td>\n",
       "      <td>1</td>\n",
       "      <td>1</td>\n",
       "    </tr>\n",
       "    <tr>\n",
       "      <th>3</th>\n",
       "      <td>No Urgent Place</td>\n",
       "      <td>Friend(s)</td>\n",
       "      <td>Sunny</td>\n",
       "      <td>80</td>\n",
       "      <td>2PM</td>\n",
       "      <td>Coffee House</td>\n",
       "      <td>2h</td>\n",
       "      <td>Female</td>\n",
       "      <td>21</td>\n",
       "      <td>Unmarried partner</td>\n",
       "      <td>...</td>\n",
       "      <td>never</td>\n",
       "      <td>NaN</td>\n",
       "      <td>4~8</td>\n",
       "      <td>1~3</td>\n",
       "      <td>1</td>\n",
       "      <td>1</td>\n",
       "      <td>0</td>\n",
       "      <td>0</td>\n",
       "      <td>1</td>\n",
       "      <td>0</td>\n",
       "    </tr>\n",
       "    <tr>\n",
       "      <th>4</th>\n",
       "      <td>No Urgent Place</td>\n",
       "      <td>Friend(s)</td>\n",
       "      <td>Sunny</td>\n",
       "      <td>80</td>\n",
       "      <td>2PM</td>\n",
       "      <td>Coffee House</td>\n",
       "      <td>1d</td>\n",
       "      <td>Female</td>\n",
       "      <td>21</td>\n",
       "      <td>Unmarried partner</td>\n",
       "      <td>...</td>\n",
       "      <td>never</td>\n",
       "      <td>NaN</td>\n",
       "      <td>4~8</td>\n",
       "      <td>1~3</td>\n",
       "      <td>1</td>\n",
       "      <td>1</td>\n",
       "      <td>0</td>\n",
       "      <td>0</td>\n",
       "      <td>1</td>\n",
       "      <td>0</td>\n",
       "    </tr>\n",
       "  </tbody>\n",
       "</table>\n",
       "<p>5 rows × 26 columns</p>\n",
       "</div>"
      ],
      "text/plain": [
       "       destination  passanger weather  temperature  time  \\\n",
       "0  No Urgent Place      Alone   Sunny           55   2PM   \n",
       "1  No Urgent Place  Friend(s)   Sunny           80  10AM   \n",
       "2  No Urgent Place  Friend(s)   Sunny           80  10AM   \n",
       "3  No Urgent Place  Friend(s)   Sunny           80   2PM   \n",
       "4  No Urgent Place  Friend(s)   Sunny           80   2PM   \n",
       "\n",
       "                  coupon expiration  gender age      maritalStatus  ...  \\\n",
       "0        Restaurant(<20)         1d  Female  21  Unmarried partner  ...   \n",
       "1           Coffee House         2h  Female  21  Unmarried partner  ...   \n",
       "2  Carry out & Take away         2h  Female  21  Unmarried partner  ...   \n",
       "3           Coffee House         2h  Female  21  Unmarried partner  ...   \n",
       "4           Coffee House         1d  Female  21  Unmarried partner  ...   \n",
       "\n",
       "   CoffeeHouse CarryAway RestaurantLessThan20 Restaurant20To50  \\\n",
       "0        never       NaN                  4~8              1~3   \n",
       "1        never       NaN                  4~8              1~3   \n",
       "2        never       NaN                  4~8              1~3   \n",
       "3        never       NaN                  4~8              1~3   \n",
       "4        never       NaN                  4~8              1~3   \n",
       "\n",
       "  toCoupon_GEQ5min toCoupon_GEQ15min toCoupon_GEQ25min direction_same  \\\n",
       "0                1                 0                 0              0   \n",
       "1                1                 0                 0              0   \n",
       "2                1                 1                 0              0   \n",
       "3                1                 1                 0              0   \n",
       "4                1                 1                 0              0   \n",
       "\n",
       "  direction_opp  Y  \n",
       "0             1  1  \n",
       "1             1  0  \n",
       "2             1  1  \n",
       "3             1  0  \n",
       "4             1  0  \n",
       "\n",
       "[5 rows x 26 columns]"
      ]
     },
     "execution_count": 12,
     "metadata": {},
     "output_type": "execute_result"
    }
   ],
   "source": [
    "data.head()\n",
    "#data.info()"
   ]
  },
  {
   "cell_type": "markdown",
   "metadata": {},
   "source": [
    "2. Investigate the dataset for missing or problematic data."
   ]
  },
  {
   "cell_type": "code",
   "execution_count": 15,
   "metadata": {},
   "outputs": [
    {
     "name": "stdout",
     "output_type": "stream",
     "text": [
      "destination             0\n",
      "passanger               0\n",
      "weather                 0\n",
      "temperature             0\n",
      "time                    0\n",
      "coupon                  0\n",
      "expiration              0\n",
      "gender                  0\n",
      "age                     0\n",
      "maritalStatus           0\n",
      "has_children            0\n",
      "education               0\n",
      "occupation              0\n",
      "income                  0\n",
      "car                     0\n",
      "Bar                     0\n",
      "CoffeeHouse             0\n",
      "CarryAway               0\n",
      "RestaurantLessThan20    0\n",
      "Restaurant20To50        0\n",
      "toCoupon_GEQ5min        0\n",
      "toCoupon_GEQ15min       0\n",
      "toCoupon_GEQ25min       0\n",
      "direction_same          0\n",
      "direction_opp           0\n",
      "Y                       0\n",
      "dtype: int64\n"
     ]
    }
   ],
   "source": [
    "print(data.isnull().sum())"
   ]
  },
  {
   "cell_type": "markdown",
   "metadata": {},
   "source": [
    "3. Decide what to do about your missing data -- drop, replace, other..."
   ]
  },
  {
   "cell_type": "code",
   "execution_count": 74,
   "metadata": {},
   "outputs": [],
   "source": [
    "columns_to_impute = ['car', 'Bar', 'CoffeeHouse', 'CarryAway', 'RestaurantLessThan20', 'Restaurant20To50']\n",
    "for column in columns_to_impute:\n",
    "    data[column].fillna(data[column].mode()[0], inplace=True)"
   ]
  },
  {
   "cell_type": "markdown",
   "metadata": {},
   "source": [
    "4. What proportion of the total observations chose to accept the coupon? \n",
    "\n"
   ]
  },
  {
   "cell_type": "code",
   "execution_count": 75,
   "metadata": {},
   "outputs": [
    {
     "name": "stdout",
     "output_type": "stream",
     "text": [
      "Proportion of observations accepting the coupon: 56.84%\n"
     ]
    }
   ],
   "source": [
    "proportion_accepted = data[data['Y'] == 1].shape[0] / data.shape[0]\n",
    "\n",
    "print(f\"Proportion of observations accepting the coupon: {proportion_accepted:.2%}\")"
   ]
  },
  {
   "cell_type": "markdown",
   "metadata": {},
   "source": [
    "5. Use a bar plot to visualize the `coupon` column."
   ]
  },
  {
   "cell_type": "code",
   "execution_count": 76,
   "metadata": {},
   "outputs": [
    {
     "data": {
      "image/png": "[encoded data removed]",
      "text/plain": [
       "<Figure size 800x600 with 1 Axes>"
      ]
     },
     "metadata": {},
     "output_type": "display_data"
    }
   ],
   "source": [
    "coupon_counts = data['coupon'].value_counts()\n",
    "\n",
    "# Plot the bar plot\n",
    "plt.figure(figsize=(8, 6))\n",
    "coupon_counts.plot(kind='bar')\n",
    "plt.xlabel('Coupon Category')\n",
    "plt.ylabel('Frequency')\n",
    "plt.title('Frequency of Coupon Categories')\n",
    "plt.show()"
   ]
  },
  {
   "cell_type": "markdown",
   "metadata": {},
   "source": [
    "6. Use a histogram to visualize the temperature column."
   ]
  },
  {
   "cell_type": "code",
   "execution_count": 77,
   "metadata": {},
   "outputs": [
    {
     "data": {
      "image/png": "[encoded data removed]",
      "text/plain": [
       "<Figure size 800x600 with 1 Axes>"
      ]
     },
     "metadata": {},
     "output_type": "display_data"
    }
   ],
   "source": [
    "plt.figure(figsize=(8, 6))\n",
    "plt.hist(data['temperature'], bins=10, edgecolor='black')\n",
    "plt.xlabel('Temperature')\n",
    "plt.ylabel('Frequency')\n",
    "plt.title('Histogram of Temperature')\n",
    "plt.show()"
   ]
  },
  {
   "cell_type": "markdown",
   "metadata": {},
   "source": [
    "**Investigating the Bar Coupons**\n",
    "\n",
    "Now, we will lead you through an exploration of just the bar related coupons.  \n",
    "\n",
    "1. Create a new `DataFrame` that contains just the bar coupons.\n"
   ]
  },
  {
   "cell_type": "code",
   "execution_count": 78,
   "metadata": {},
   "outputs": [
    {
     "name": "stdout",
     "output_type": "stream",
     "text": [
      "        destination  passanger weather  temperature  time coupon expiration  \\\n",
      "9   No Urgent Place     Kid(s)   Sunny           80  10AM    Bar         1d   \n",
      "13             Home      Alone   Sunny           55   6PM    Bar         1d   \n",
      "17             Work      Alone   Sunny           55   7AM    Bar         1d   \n",
      "24  No Urgent Place  Friend(s)   Sunny           80  10AM    Bar         1d   \n",
      "35             Home      Alone   Sunny           55   6PM    Bar         1d   \n",
      "\n",
      "    gender age      maritalStatus  ...  CoffeeHouse CarryAway  \\\n",
      "9   Female  21  Unmarried partner  ...        never       1~3   \n",
      "13  Female  21  Unmarried partner  ...        never       1~3   \n",
      "17  Female  21  Unmarried partner  ...        never       1~3   \n",
      "24    Male  21             Single  ...        less1       4~8   \n",
      "35    Male  21             Single  ...        less1       4~8   \n",
      "\n",
      "   RestaurantLessThan20 Restaurant20To50 toCoupon_GEQ5min toCoupon_GEQ15min  \\\n",
      "9                   4~8              1~3                1                 1   \n",
      "13                  4~8              1~3                1                 0   \n",
      "17                  4~8              1~3                1                 1   \n",
      "24                  4~8            less1                1                 0   \n",
      "35                  4~8            less1                1                 0   \n",
      "\n",
      "   toCoupon_GEQ25min direction_same direction_opp  Y  \n",
      "9                  0              0             1  0  \n",
      "13                 0              1             0  1  \n",
      "17                 1              0             1  0  \n",
      "24                 0              0             1  1  \n",
      "35                 0              1             0  1  \n",
      "\n",
      "[5 rows x 26 columns]\n"
     ]
    }
   ],
   "source": [
    "bar_coupons_data = data[data['coupon'] == 'Bar'].copy()\n",
    "\n",
    "# Print the new DataFrame\n",
    "print(bar_coupons_data.head())"
   ]
  },
  {
   "cell_type": "markdown",
   "metadata": {},
   "source": [
    "2. What proportion of bar coupons were accepted?\n"
   ]
  },
  {
   "cell_type": "code",
   "execution_count": 79,
   "metadata": {},
   "outputs": [
    {
     "name": "stdout",
     "output_type": "stream",
     "text": [
      "Proportion of bar coupons accepted: 41.00%\n"
     ]
    }
   ],
   "source": [
    "bar_coupons_data = data[data['coupon'] == 'Bar']\n",
    "\n",
    "# Calculate the proportion of bar coupons accepted\n",
    "proportion_accepted = bar_coupons_data[bar_coupons_data['Y'] == 1].shape[0] / bar_coupons_data.shape[0]\n",
    "\n",
    "print(f\"Proportion of bar coupons accepted: {proportion_accepted:.2%}\")\n"
   ]
  },
  {
   "cell_type": "markdown",
   "metadata": {},
   "source": [
    "3. Compare the acceptance rate between those who went to a bar 3 or fewer times a month to those who went more.\n"
   ]
  },
  {
   "cell_type": "code",
   "execution_count": 82,
   "metadata": {
    "scrolled": true
   },
   "outputs": [
    {
     "name": "stdout",
     "output_type": "stream",
     "text": [
      "Acceptance rate for individuals with fewer bar visits: 0.00%\n",
      "Acceptance rate for individuals with more bar visits: 0.00%\n"
     ]
    }
   ],
   "source": [
    "# Convert \"Bar\" column to numeric\n",
    "data['Bar'] = pd.to_numeric(data['Bar'], errors='coerce')\n",
    "\n",
    "# Filter the DataFrame for individuals who went to a bar 3 or fewer times a month\n",
    "few_bar_visits_df = data[data['Bar'] <= 3]\n",
    "\n",
    "# Filter the DataFrame for individuals who went to a bar more than 3 times a month\n",
    "more_bar_visits_df = data[data['Bar'] > 3]\n",
    "\n",
    "# Calculate the acceptance rate for individuals with fewer bar visits\n",
    "if few_bar_visits_df.shape[0] > 0:\n",
    "    acceptance_rate_few_bar_visits = few_bar_visits_df[few_bar_visits_df['Y'] == 1].shape[0] / few_bar_visits_df.shape[0]\n",
    "else:\n",
    "    acceptance_rate_few_bar_visits = 0.0\n",
    "\n",
    "# Calculate the acceptance rate for individuals with more bar visits\n",
    "if more_bar_visits_df.shape[0] > 0:\n",
    "    acceptance_rate_more_bar_visits = more_bar_visits_df[more_bar_visits_df['Y'] == 1].shape[0] / more_bar_visits_df.shape[0]\n",
    "else:\n",
    "    acceptance_rate_more_bar_visits = 0.0\n",
    "\n",
    "print(f\"Acceptance rate for individuals with fewer bar visits: {acceptance_rate_few_bar_visits:.2%}\")\n",
    "print(f\"Acceptance rate for individuals with more bar visits: {acceptance_rate_more_bar_visits:.2%}\")"
   ]
  },
  {
   "cell_type": "markdown",
   "metadata": {},
   "source": [
    "4. Compare the acceptance rate between drivers who go to a bar more than once a month and are over the age of 25 to the all others.  Is there a difference?\n"
   ]
  },
  {
   "cell_type": "code",
   "execution_count": 83,
   "metadata": {},
   "outputs": [
    {
     "name": "stdout",
     "output_type": "stream",
     "text": [
      "Acceptance rate for drivers who go to a bar more than once a month and are over the age of 25: 0.00%\n",
      "Acceptance rate for all other drivers who are over the age of 25: 56.73%\n"
     ]
    }
   ],
   "source": [
    "# Convert \"Bar\" and \"age\" columns to numeric, handling non-numeric values\n",
    "data['Bar'] = pd.to_numeric(data['Bar'], errors='coerce')\n",
    "data['age'] = pd.to_numeric(data['age'], errors='coerce')\n",
    "\n",
    "# Filter the DataFrame for drivers who are over the age of 25\n",
    "drivers_over_25_df = data[data['age'] > 25]\n",
    "\n",
    "# Filter the DataFrame for drivers who go to a bar more than once a month and are over the age of 25\n",
    "bar_goers_over_25_df = drivers_over_25_df[drivers_over_25_df['Bar'] > 1]\n",
    "\n",
    "# Calculate the acceptance rate for drivers who go to a bar more than once a month and are over the age of 25\n",
    "if bar_goers_over_25_df.shape[0] > 0:\n",
    "    acceptance_rate_bar_goers_over_25 = bar_goers_over_25_df[bar_goers_over_25_df['Y'] == 1].shape[0] / bar_goers_over_25_df.shape[0]\n",
    "else:\n",
    "    acceptance_rate_bar_goers_over_25 = 0.0\n",
    "\n",
    "# Calculate the acceptance rate for all other drivers who are over the age of 25\n",
    "drivers_not_bar_goers_over_25_df = drivers_over_25_df[~drivers_over_25_df.index.isin(bar_goers_over_25_df.index)]\n",
    "if drivers_not_bar_goers_over_25_df.shape[0] > 0:\n",
    "    acceptance_rate_drivers_not_bar_goers_over_25 = drivers_not_bar_goers_over_25_df[drivers_not_bar_goers_over_25_df['Y'] == 1].shape[0] / drivers_not_bar_goers_over_25_df.shape[0]\n",
    "else:\n",
    "    acceptance_rate_drivers_not_bar_goers_over_25 = 0.0\n",
    "\n",
    "print(f\"Acceptance rate for drivers who go to a bar more than once a month and are over the age of 25: {acceptance_rate_bar_goers_over_25:.2%}\")\n",
    "print(f\"Acceptance rate for all other drivers who are over the age of 25: {acceptance_rate_drivers_not_bar_goers_over_25:.2%}\")"
   ]
  },
  {
   "cell_type": "markdown",
   "metadata": {},
   "source": [
    "5. Use the same process to compare the acceptance rate between drivers who go to bars more than once a month and had passengers that were not a kid and had occupations other than farming, fishing, or forestry. \n"
   ]
  },
  {
   "cell_type": "code",
   "execution_count": 84,
   "metadata": {},
   "outputs": [
    {
     "name": "stdout",
     "output_type": "stream",
     "text": [
      "Acceptance rate for drivers who go to bars more than once a month, had non-kid passengers, and occupations other than farming, fishing, or forestry: 0.00%\n"
     ]
    }
   ],
   "source": [
    "# Filter the DataFrame for drivers who go to bars more than once a month\n",
    "bar_goers_df = data[data['Bar'] > 1]\n",
    "\n",
    "# Filter the DataFrame for drivers whose passengers are not kids\n",
    "non_kid_passengers_df = bar_goers_df[bar_goers_df['has_children'] == 0]\n",
    "\n",
    "# Filter the DataFrame for drivers with occupations other than farming, fishing, or forestry\n",
    "occupation_df = non_kid_passengers_df[~non_kid_passengers_df['occupation'].isin(['farming', 'fishing', 'forestry'])]\n",
    "\n",
    "# Calculate the acceptance rate for drivers who go to bars more than once a month, had non-kid passengers, and occupations other than farming, fishing, or forestry\n",
    "if occupation_df.shape[0] > 0:\n",
    "    acceptance_rate_occupation = occupation_df[occupation_df['Y'] == 1].shape[0] / occupation_df.shape[0]\n",
    "else:\n",
    "    acceptance_rate_occupation = 0.0\n",
    "\n",
    "print(f\"Acceptance rate for drivers who go to bars more than once a month, had non-kid passengers, and occupations other than farming, fishing, or forestry: {acceptance_rate_occupation:.2%}\")"
   ]
  },
  {
   "cell_type": "markdown",
   "metadata": {},
   "source": [
    "6. Compare the acceptance rates between those drivers who:\n",
    "\n",
    "- go to bars more than once a month, had passengers that were not a kid, and were not widowed *OR*\n",
    "- go to bars more than once a month and are under the age of 30 *OR*\n",
    "- go to cheap restaurants more than 4 times a month and income is less than 50K. \n",
    "\n"
   ]
  },
  {
   "cell_type": "code",
   "execution_count": 85,
   "metadata": {
    "scrolled": true
   },
   "outputs": [
    {
     "name": "stdout",
     "output_type": "stream",
     "text": [
      "Group 1 size: 0\n",
      "Group 2 size: 0\n",
      "Group 3 size: 0\n",
      "Acceptance rate for Group 1: nan%\n",
      "Acceptance rate for Group 2: nan%\n",
      "Acceptance rate for Group 3: nan%\n"
     ]
    }
   ],
   "source": [
    "# Convert 'RestaurantLessThan20' column to numeric\n",
    "data['RestaurantLessThan20'] = pd.to_numeric(data['RestaurantLessThan20'], errors='coerce')\n",
    "\n",
    "# Group 1: Drivers who go to bars more than once a month, had passengers that were not kids, and were not widowed\n",
    "group1_df = data[(data['Bar'] > 1) & (data['has_children'] == 0) & (data['maritalStatus'] != 'Widowed')]\n",
    "\n",
    "# Group 2: Drivers who go to bars more than once a month and are under the age of 30\n",
    "group2_df = data[(data['Bar'] > 1) & (data['age'] < 30)]\n",
    "\n",
    "# Group 3: Drivers who go to cheap restaurants more than 4 times a month and have income less than 50K\n",
    "group3_df = data[(data['RestaurantLessThan20'] > 4) & (data['income'] == '<50K')]\n",
    "\n",
    "print(f\"Group 1 size: {group1_df.shape[0]}\")\n",
    "print(f\"Group 2 size: {group2_df.shape[0]}\")\n",
    "print(f\"Group 3 size: {group3_df.shape[0]}\")\n",
    "\n",
    "# Calculate the acceptance rate for each group\n",
    "acceptance_rate_group1 = group1_df['Y'].mean()\n",
    "acceptance_rate_group2 = group2_df['Y'].mean()\n",
    "acceptance_rate_group3 = group3_df['Y'].mean()\n",
    "\n",
    "# Compare the acceptance rates\n",
    "print(f\"Acceptance rate for Group 1: {acceptance_rate_group1:.2%}\")\n",
    "print(f\"Acceptance rate for Group 2: {acceptance_rate_group2:.2%}\")\n",
    "print(f\"Acceptance rate for Group 3: {acceptance_rate_group3:.2%}\")"
   ]
  },
  {
   "cell_type": "markdown",
   "metadata": {},
   "source": [
    "7.  Based on these observations, what do you hypothesize about drivers who accepted the bar coupons?"
   ]
  },
  {
   "cell_type": "code",
   "execution_count": null,
   "metadata": {},
   "outputs": [],
   "source": [
    "Based on the observations, all group sizes are zero and the acceptance rates are calculated as NaN (Not a Number), it can be hypothesized that there are no drivers in the dataset who accepted the bar coupons based on the specified conditions.\n",
    "\n",
    "This suggests that the criteria used to filter and group the data may be too restrictive or not applicable to the dataset. It is possible that the dataset does not contain any instances that meet the specific conditions for drivers who accepted the bar coupons."
   ]
  },
  {
   "cell_type": "markdown",
   "metadata": {},
   "source": [
    "### Independent Investigation\n",
    "\n",
    "Using the bar coupon example as motivation, you are to explore one of the other coupon groups and try to determine the characteristics of passengers who accept the coupons.  "
   ]
  },
  {
   "cell_type": "code",
   "execution_count": 86,
   "metadata": {},
   "outputs": [
    {
     "name": "stdout",
     "output_type": "stream",
     "text": [
      "No valid records found in the CoffeeHouse coupon group.\n"
     ]
    }
   ],
   "source": [
    "# Convert the \"CoffeeHouse\" column to numeric\n",
    "data['CoffeeHouse'] = pd.to_numeric(data['CoffeeHouse'], errors='coerce')\n",
    "\n",
    "# Filter the dataset for the \"CoffeeHouse\" coupon group\n",
    "coffeehouse_df = data[data['CoffeeHouse'] > 0]\n",
    "\n",
    "# Check if there are valid records in the \"CoffeeHouse\" coupon group\n",
    "if coffeehouse_df.shape[0] > 0:\n",
    "    # Analyze the characteristics of passengers who accepted the coupons in the CoffeeHouse group\n",
    "    accepted_coffeehouse_df = coffeehouse_df[coffeehouse_df['Y'] == 1]\n",
    "\n",
    "    # Calculate the acceptance rate\n",
    "    acceptance_rate = accepted_coffeehouse_df.shape[0] / coffeehouse_df.shape[0]\n",
    "\n",
    "    # Print the acceptance rate\n",
    "    print(f\"Acceptance rate for the CoffeeHouse coupon group: {acceptance_rate:.2%}\")\n",
    "else:\n",
    "    print(\"No valid records found in the CoffeeHouse coupon group.\")"
   ]
  },
  {
   "cell_type": "code",
   "execution_count": null,
   "metadata": {},
   "outputs": [],
   "source": []
  },
  {
   "cell_type": "code",
   "execution_count": null,
   "metadata": {},
   "outputs": [],
   "source": []
  },
  {
   "cell_type": "code",
   "execution_count": null,
   "metadata": {},
   "outputs": [],
   "source": []
  },
  {
   "cell_type": "code",
   "execution_count": null,
   "metadata": {},
   "outputs": [],
   "source": []
  }
 ],
 "metadata": {
  "kernelspec": {
   "display_name": "Python 3 (ipykernel)",
   "language": "python",
   "name": "python3"
  },
  "language_info": {
   "codemirror_mode": {
    "name": "ipython",
    "version": 3
   },
   "file_extension": ".py",
   "mimetype": "text/x-python",
   "name": "python",
   "nbconvert_exporter": "python",
   "pygments_lexer": "ipython3",
   "version": "3.10.9"
  },
  "widgets": {
   "application/vnd.jupyter.widget-state+json": {
    "state": {},
    "version_major": 2,
    "version_minor": 0
   }
  }
 },
 "nbformat": 4,
 "nbformat_minor": 4
}
